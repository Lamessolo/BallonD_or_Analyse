{
 "cells": [
  {
   "cell_type": "code",
   "execution_count": 2,
   "id": "9edcb5bb",
   "metadata": {},
   "outputs": [
    {
     "name": "stdout",
     "output_type": "stream",
     "text": [
      "Requirement already satisfied: mysql.connector.python in c:\\users\\messj\\appdata\\local\\programs\\python\\python310\\lib\\site-packages (8.0.33)\n",
      "Requirement already satisfied: protobuf<=3.20.3,>=3.11.0 in c:\\users\\messj\\appdata\\local\\programs\\python\\python310\\lib\\site-packages (from mysql.connector.python) (3.20.3)\n"
     ]
    },
    {
     "name": "stderr",
     "output_type": "stream",
     "text": [
      "\n",
      "[notice] A new release of pip is available: 23.0.1 -> 23.1.2\n",
      "[notice] To update, run: python.exe -m pip install --upgrade pip\n"
     ]
    }
   ],
   "source": [
    "!pip install mysql.connector.python"
   ]
  },
  {
   "cell_type": "code",
   "execution_count": 10,
   "id": "e35a0b35",
   "metadata": {},
   "outputs": [],
   "source": [
    "#Establish a connection by importing MySQLConnectionPool and creating a pool with two connections.\n",
    "import mysql.connector as connector\n",
    "from mysql.connector.pooling import MySQLConnectionPool,Error"
   ]
  },
  {
   "cell_type": "code",
   "execution_count": 11,
   "id": "3eee421d",
   "metadata": {},
   "outputs": [
    {
     "name": "stdout",
     "output_type": "stream",
     "text": [
      "the connection pool is create with name: pool_for_Connection\n",
      "the pool size is 4\n"
     ]
    }
   ],
   "source": [
    "dbconfig={\"user\":\"root\",\"password\":\"Ruben92\"}\n",
    "try:\n",
    "    pool=MySQLConnectionPool(pool_name=\"pool_for_Connection\",\n",
    "                         pool_size=4,\n",
    "                        **dbconfig)\n",
    "    print(\"the connection pool is create with name:\",pool.pool_name)\n",
    "    print(\"the pool size is\",pool.pool_size)\n",
    "except error as er:\n",
    "    print(\"error code:\",er.errno)\n",
    "    print(\"error message:\",er.msg)"
   ]
  },
  {
   "cell_type": "code",
   "execution_count": 12,
   "id": "5570af3c",
   "metadata": {},
   "outputs": [
    {
     "name": "stdout",
     "output_type": "stream",
     "text": [
      "Obtain a connection from pool\n",
      "connection success with MySQL\n",
      "create a cursor object to communicate with the database\n"
     ]
    }
   ],
   "source": [
    "try:\n",
    "#Step four: Obtain a connection from pool_a .\n",
    "    print(\"Obtain a connection from pool\")\n",
    "    connection=pool.get_connection()\n",
    "    print(\"connection success with MySQL\")\n",
    "\n",
    "except:\n",
    "    print(\"connection failed with MySQL\")\n",
    "\n",
    "#create a cursor object to communicate with the database\n",
    "print(\"create a cursor object to communicate with the database\")\n",
    "cursor = connection.cursor()"
   ]
  },
  {
   "cell_type": "code",
   "execution_count": 13,
   "id": "1c32fca5",
   "metadata": {},
   "outputs": [
    {
     "name": "stdout",
     "output_type": "stream",
     "text": [
      "goldplayersdatabase database create with success\n"
     ]
    }
   ],
   "source": [
    "#Create LittleLemonDB_ByPython\n",
    "dropDatabase_query = \"\"\"DROP DATABASE IF EXISTS goldplayersdatabase;\"\"\"\n",
    "cursor.execute(dropDatabase_query)\n",
    "create_database_query=\"\"\"CREATE DATABASE goldplayersdatabase;\"\"\"\n",
    "cursor.execute(create_database_query)\n",
    "print(\"goldplayersdatabase database create with success\")"
   ]
  },
  {
   "cell_type": "code",
   "execution_count": 14,
   "id": "3779512f",
   "metadata": {},
   "outputs": [],
   "source": [
    "cursor.execute(\"USE goldplayersdatabase\")"
   ]
  },
  {
   "cell_type": "code",
   "execution_count": 15,
   "id": "ec951d3c",
   "metadata": {},
   "outputs": [
    {
     "name": "stdout",
     "output_type": "stream",
     "text": [
      "('Field', 'Type', 'Null', 'Key', 'Default', 'Extra')\n",
      "('id', b'int', 'NO', 'PRI', None, '')\n",
      "('Rang', b'int', 'NO', '', None, '')\n",
      "('Nom', b'varchar(50)', 'YES', '', None, '')\n",
      "('Club', b'varchar(50)', 'YES', '', None, '')\n",
      "('Selection', b'varchar(50)', 'YES', '', None, '')\n",
      "('Poste', b'varchar(50)', 'YES', '', None, '')\n",
      "('Points', b'varchar(50)', 'YES', '', None, '')\n",
      "('Confederation', b'varchar(50)', 'YES', '', None, '')\n",
      "('Type', b'varchar(50)', 'YES', '', None, '')\n",
      "('Pourcentagevote', b'varchar(50)', 'YES', '', None, '')\n",
      "('Annee', b'varchar(50)', 'YES', '', None, '')\n",
      "Player2010s Table create with success\n"
     ]
    }
   ],
   "source": [
    "drop_PlayersTable_query = \"\"\"DROP TABLE IF EXISTS Players2010s;\"\"\"\n",
    "cursor.execute(drop_PlayersTable_query)\n",
    "\n",
    "create_PlayersTable_query = \"\"\" \n",
    "CREATE TABLE players2010s (\n",
    "id INT PRIMARY KEY,\n",
    "Rang INT NOT NULL,\n",
    "Nom VARCHAR(50),\n",
    "Club VARCHAR(50),\n",
    "Selection VARCHAR(50),\n",
    "Poste VARCHAR(50),\n",
    "Points VARCHAR(50),\n",
    "Confederation VARCHAR(50),\n",
    "Type VARCHAR (50),\n",
    "Pourcentagevote VARCHAR(50),\n",
    "Annee  VARCHAR(50)\n",
    ");\n",
    "\"\"\"\n",
    "cursor.execute(create_PlayersTable_query)\n",
    "cursor.execute(\"SHOW COLUMNS FROM Players2010s\")\n",
    "results=cursor.fetchall()\n",
    "columns=cursor.column_names\n",
    "print(columns)\n",
    "for result in results:\n",
    "    print(result)\n",
    "print(\"Player2010s Table create with success\")"
   ]
  },
  {
   "cell_type": "code",
   "execution_count": 16,
   "id": "cc221332",
   "metadata": {},
   "outputs": [],
   "source": [
    "# Import csv files about all_players into database"
   ]
  },
  {
   "cell_type": "code",
   "execution_count": 17,
   "id": "f9ec5b6e",
   "metadata": {},
   "outputs": [
    {
     "name": "stdout",
     "output_type": "stream",
     "text": [
      "('id', 'Rang', 'Nom', 'Club', 'Selection', 'Poste', 'Points', 'Confederation', 'Type', 'Pourcentagevote', 'Annee')\n"
     ]
    }
   ],
   "source": [
    "cursor.execute(\"SELECT * FROM Players2010s\")\n",
    "results=cursor.fetchall()\n",
    "columns=cursor.column_names\n",
    "print(columns)\n",
    "for result in results:\n",
    "    print(result)"
   ]
  },
  {
   "cell_type": "code",
   "execution_count": null,
   "id": "ede159d3",
   "metadata": {},
   "outputs": [],
   "source": []
  }
 ],
 "metadata": {
  "kernelspec": {
   "display_name": "Python 3 (ipykernel)",
   "language": "python",
   "name": "python3"
  },
  "language_info": {
   "codemirror_mode": {
    "name": "ipython",
    "version": 3
   },
   "file_extension": ".py",
   "mimetype": "text/x-python",
   "name": "python",
   "nbconvert_exporter": "python",
   "pygments_lexer": "ipython3",
   "version": "3.10.11"
  }
 },
 "nbformat": 4,
 "nbformat_minor": 5
}
