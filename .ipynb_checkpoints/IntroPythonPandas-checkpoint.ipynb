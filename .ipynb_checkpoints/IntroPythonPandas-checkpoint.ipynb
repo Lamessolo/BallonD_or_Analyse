{
 "cells": [
  {
   "cell_type": "code",
   "execution_count": 1,
   "id": "51384cab",
   "metadata": {},
   "outputs": [
    {
     "name": "stdout",
     "output_type": "stream",
     "text": [
      "20\n",
      "2038\n"
     ]
    }
   ],
   "source": [
    "def sumCustom(a,b):\n",
    " return 2*(a + b)\n",
    "    \n",
    "sumOfSmallNumbers = sumCustom(3,7)\n",
    "print(sumCustom(3,7)) # -> 10\n",
    "\n",
    "sumOfLargerNumbers = sumCustom(sumOfSmallNumbers,999)\n",
    "print(sumOfLargerNumbers) # -> 1009\n",
    "   "
   ]
  },
  {
   "cell_type": "code",
   "execution_count": 17,
   "id": "28c0474c",
   "metadata": {},
   "outputs": [
    {
     "name": "stdout",
     "output_type": "stream",
     "text": [
      "8\n",
      "8\n",
      "3\n"
     ]
    }
   ],
   "source": [
    "myList = [1,2,3,4,-2]\n",
    "\n",
    "print(sum(myList)) # -> 8\n",
    "print(pow(2,3)) # -> 8, equivalent to 2**3\n",
    "print(abs(-3)) # -> 3\n"
   ]
  },
  {
   "cell_type": "code",
   "execution_count": 19,
   "id": "8638d867",
   "metadata": {},
   "outputs": [
    {
     "name": "stdout",
     "output_type": "stream",
     "text": [
      "22\n",
      "64\n"
     ]
    }
   ],
   "source": [
    "def transform(a,b):\n",
    "    x=a+b\n",
    "    y=x*2\n",
    "    return(y)\n",
    "x=1\n",
    "y=10\n",
    "x=transform(x,y)\n",
    "y=transform(y,x)\n",
    "print(x)\n",
    "print(y)"
   ]
  },
  {
   "cell_type": "code",
   "execution_count": 22,
   "id": "cb98c702",
   "metadata": {},
   "outputs": [
    {
     "name": "stdout",
     "output_type": "stream",
     "text": [
      "this is a test\n",
      "This is a test\n",
      "THIS IS A TEST\n"
     ]
    }
   ],
   "source": [
    "a = 'This is a TEST'\n",
    "print(a.lower())\n",
    "print(a.capitalize())\n",
    "print(a.upper())"
   ]
  },
  {
   "cell_type": "code",
   "execution_count": 23,
   "id": "7c9bbe66",
   "metadata": {},
   "outputs": [
    {
     "name": "stdout",
     "output_type": "stream",
     "text": [
      "dict_values([2, 18, 12])\n"
     ]
    }
   ],
   "source": [
    "myDict = {'George': 4, 'Jean': 2, 'Paul': 10, 'Andrew': 18, 'Jacob': 8}\n",
    "\n",
    "myDict['Steve'] = 12\n",
    "\n",
    "toRemove = ['George', 'Paul', 'Jacob']\n",
    "for elt in toRemove:\n",
    "    myDict.pop(elt)\n",
    "\n",
    "print(myDict.values())"
   ]
  },
  {
   "cell_type": "code",
   "execution_count": 24,
   "id": "c5d33c67",
   "metadata": {},
   "outputs": [
    {
     "name": "stdout",
     "output_type": "stream",
     "text": [
      "2.718281828459045\n"
     ]
    }
   ],
   "source": [
    "from math import e\n",
    "print(e)"
   ]
  },
  {
   "cell_type": "code",
   "execution_count": 29,
   "id": "ec4fee16",
   "metadata": {},
   "outputs": [
    {
     "name": "stdout",
     "output_type": "stream",
     "text": [
      "10.0\n",
      "5\n",
      "10.0\n",
      "20\n"
     ]
    }
   ],
   "source": [
    "import numpy as np\n",
    "\n",
    "myNotes = np.array([0, 5, 10, 15, 20])\n",
    "print(myNotes.mean())\n",
    "print(myNotes[1])\n",
    "print(myNotes.sum()/5)\n",
    "print(myNotes.max())"
   ]
  },
  {
   "cell_type": "code",
   "execution_count": 9,
   "id": "313ff840",
   "metadata": {
    "scrolled": false
   },
   "outputs": [
    {
     "data": {
      "image/png": "[encoded data removed]",
      "text/plain": [
       "<Figure size 432x288 with 1 Axes>"
      ]
     },
     "metadata": {
      "needs_background": "light"
     },
     "output_type": "display_data"
    }
   ],
   "source": [
    "# On importe les librairies dont on aura besoin pour ce tp\n",
    "import numpy as np\n",
    "import pandas as pd\n",
    "import matplotlib.pyplot as plt\n",
    "\n",
    "# On charge le dataset\n",
    "house_data = pd.read_csv('house.csv')\n",
    "house_data.head()\n",
    "# On affiche le nuage de points dont on dispose\n",
    "\n",
    "plt.plot(house_data['surface'], house_data['loyer'] , 'ro', markersize=4)\n",
    "plt.show()\n"
   ]
  },
  {
   "cell_type": "code",
   "execution_count": 10,
   "id": "ccc39a98",
   "metadata": {},
   "outputs": [
    {
     "name": "stdout",
     "output_type": "stream",
     "text": [
      "     loyer  surface\n",
      "0     1330       37\n",
      "1     1400       32\n",
      "2      904       26\n",
      "3      955       30\n",
      "4     2545       70\n",
      "..     ...      ...\n",
      "540   1490       48\n",
      "541   2020       58\n",
      "542   2050       70\n",
      "543   1220       42\n",
      "544   1610       44\n",
      "\n",
      "[545 rows x 2 columns]\n",
      "loyer      0\n",
      "surface    0\n",
      "dtype: int64\n"
     ]
    }
   ],
   "source": [
    "%matplotlib inline\n",
    "import numpy as np\n",
    "import pandas as pd\n",
    "import matplotlib.pyplot as plt\n",
    "import re\n",
    "import csv\n",
    "\n",
    "Fichier = pd.read_csv('house.csv')\n",
    "print(Fichier)\n",
    "print(Fichier.isnull().sum())"
   ]
  },
  {
   "cell_type": "code",
   "execution_count": 16,
   "id": "a90a7829",
   "metadata": {},
   "outputs": [
    {
     "name": "stdout",
     "output_type": "stream",
     "text": [
      "                   nom      poste   annee  position           clubs  \\\n",
      "16  Andriy Chevtchenko  attaquant  2000.0       3.0         ACMilan   \n",
      "17       Jari Litmanen  attaquant  1995.0       3.0  Ajax Amsterdam   \n",
      "\n",
      "    tropheCollective  tropheIndividuel selection confederation  \\\n",
      "16               0.0               0.0   Ukraine          UEFA   \n",
      "17               0.0               0.0  Finlande          UEFA   \n",
      "\n",
      "   ligueDesChampions;  \n",
      "16         Vainqueur;  \n",
      "17        Vainqueur;   \n",
      "(18, 10)\n",
      "                                                  nom      poste   annee  \\\n",
      "0                                         George Weah  attaquant  1995.0   \n",
      "1                                     Jurgen Klinsman  attaquant  1995.0   \n",
      "2   Matthias Sammer,defenseur,1996,1,Borussia Dort...        NaN     NaN   \n",
      "3                                             Ronaldo  attaquant  1996.0   \n",
      "4                                        Alan Shearer  attaquant  1996.0   \n",
      "5                                             Ronaldo  attaquant  1997.0   \n",
      "6                                   Predrag Mijatovic  attaquant  1997.0   \n",
      "7                                     Zinedine Zidane     milieu  1997.0   \n",
      "8                                     Zinedine Zidane     milieu  1998.0   \n",
      "9                                         Davor Suker  attaquant  1998.0   \n",
      "10  Ronaldo,attaquant,1998,3,Inter Milan,0,0,Bresi...        NaN     NaN   \n",
      "11                                            Rivaldo     milieu  1999.0   \n",
      "12                                      David Beckham     milieu  1999.0   \n",
      "13  Andriy Chevtchenko,attaquant,1999,3,AC Milan,0...        NaN     NaN   \n",
      "14                                          Luis Figo     milieu  2000.0   \n",
      "15                                    Zinedine Zidane     milieu  2000.0   \n",
      "16                                 Andriy Chevtchenko  attaquant  2000.0   \n",
      "17                                      Jari Litmanen  attaquant  1995.0   \n",
      "\n",
      "    position                     clubs  tropheCollective  tropheIndividuel  \\\n",
      "0        1.0           ParisSG-ACMilan               0.0               0.0   \n",
      "1        2.0             Bayern Munich               0.0               0.0   \n",
      "2        NaN                       NaN               NaN               NaN   \n",
      "3        2.0               FCBarcelone               0.0               0.0   \n",
      "4        3.0          Newcastle United               0.0               0.0   \n",
      "5        1.0      Barcelone-InterMilan               0.0               0.0   \n",
      "6        2.0               Real Madrid               0.0               0.0   \n",
      "7        3.0                  Juventus               0.0               0.0   \n",
      "8        1.0                  Juventus               0.0               0.0   \n",
      "9        2.0               Real Madrid               0.0               0.0   \n",
      "10       NaN                       NaN               NaN               NaN   \n",
      "11       1.0              FC Barcelone               0.0               0.0   \n",
      "12       2.0          ManchesterUnited               0.0               0.0   \n",
      "13       NaN                       NaN               NaN               NaN   \n",
      "14       1.0  FCBarcelone - RealMadrid               0.0               0.0   \n",
      "15       2.0                  Juventus               0.0               0.0   \n",
      "16       3.0                   ACMilan               0.0               0.0   \n",
      "17       3.0            Ajax Amsterdam               0.0               0.0   \n",
      "\n",
      "      selection confederation              ligueDesChampions;  \n",
      "0       Liberia           CAF                 Demi-finaliste;  \n",
      "1     Allemagne          UEFA                 Demi-finaliste;  \n",
      "2           NaN           NaN                             NaN  \n",
      "3        Bresil      CONMEBOL                      Vainqueur;  \n",
      "4    Angleterre          UEFA                          Neant;  \n",
      "5        Bresil      CONMEBOL     Vainqueur Coupe des coupes;  \n",
      "6   Yougoslavie          UEFA  Vainqueur Ligue des Champions;  \n",
      "7        France          UEFA                      Finaliste;  \n",
      "8        France          UEFA                          Neant;  \n",
      "9       Croatie          UEFA                          Neant;  \n",
      "10          NaN           NaN                             NaN  \n",
      "11       Bresil      CONMEBOL                      Vainqueur;  \n",
      "12   Angleterre          UEFA                      Vainqueur;  \n",
      "13          NaN           NaN                             NaN  \n",
      "14     Portugal          UEFA                      Vainqueur;  \n",
      "15       France          UEFA                      Vainqueur;  \n",
      "16      Ukraine          UEFA                      Vainqueur;  \n",
      "17     Finlande          UEFA                     Vainqueur;   \n"
     ]
    }
   ],
   "source": [
    "import numpy as np\n",
    "import pandas as pd\n",
    "import matplotlib.pyplot as plt\n",
    "import re\n",
    "import csv\n",
    "\n",
    "Fichier = pd.read_csv('Nettoyage.csv')\n",
    "print(Fichier.tail(2))\n",
    "print(Fichier)"
   ]
  },
  {
   "cell_type": "code",
   "execution_count": null,
   "id": "2fdf5461",
   "metadata": {},
   "outputs": [],
   "source": [
    "print(Fichier.shape)"
   ]
  },
  {
   "cell_type": "code",
   "execution_count": 17,
   "id": "4c6323f2",
   "metadata": {},
   "outputs": [
    {
     "name": "stdout",
     "output_type": "stream",
     "text": [
      "180\n"
     ]
    }
   ],
   "source": [
    "print(Fichier.size) # rows * colums"
   ]
  },
  {
   "cell_type": "code",
   "execution_count": 18,
   "id": "710148f8",
   "metadata": {},
   "outputs": [
    {
     "data": {
      "text/plain": [
       "18"
      ]
     },
     "execution_count": 18,
     "metadata": {},
     "output_type": "execute_result"
    }
   ],
   "source": [
    "len(Fichier)"
   ]
  },
  {
   "cell_type": "code",
   "execution_count": 19,
   "id": "fbc6bf31",
   "metadata": {},
   "outputs": [
    {
     "data": {
      "text/plain": [
       "Index(['nom', 'poste', 'annee', 'position', 'clubs', 'tropheCollective',\n",
       "       'tropheIndividuel', 'selection', 'confederation', 'ligueDesChampions;'],\n",
       "      dtype='object')"
      ]
     },
     "execution_count": 19,
     "metadata": {},
     "output_type": "execute_result"
    }
   ],
   "source": [
    "Fichier.columns # extract columns name"
   ]
  },
  {
   "cell_type": "code",
   "execution_count": 20,
   "id": "9e49f43d",
   "metadata": {},
   "outputs": [
    {
     "data": {
      "text/plain": [
       "0                                           George Weah\n",
       "1                                       Jurgen Klinsman\n",
       "2     Matthias Sammer,defenseur,1996,1,Borussia Dort...\n",
       "3                                               Ronaldo\n",
       "4                                          Alan Shearer\n",
       "5                                               Ronaldo\n",
       "6                                     Predrag Mijatovic\n",
       "7                                       Zinedine Zidane\n",
       "8                                       Zinedine Zidane\n",
       "9                                           Davor Suker\n",
       "10    Ronaldo,attaquant,1998,3,Inter Milan,0,0,Bresi...\n",
       "11                                              Rivaldo\n",
       "12                                        David Beckham\n",
       "13    Andriy Chevtchenko,attaquant,1999,3,AC Milan,0...\n",
       "14                                            Luis Figo\n",
       "15                                      Zinedine Zidane\n",
       "16                                   Andriy Chevtchenko\n",
       "17                                        Jari Litmanen\n",
       "Name: nom, dtype: object"
      ]
     },
     "execution_count": 20,
     "metadata": {},
     "output_type": "execute_result"
    }
   ],
   "source": [
    "Fichier['nom'] # recupere les données de la colonne indiqué"
   ]
  },
  {
   "cell_type": "code",
   "execution_count": 21,
   "id": "324596eb",
   "metadata": {},
   "outputs": [
    {
     "data": {
      "text/plain": [
       "0                                          George Weah\n",
       "1                                      Jurgen Klinsman\n",
       "2    Matthias Sammer,defenseur,1996,1,Borussia Dort...\n",
       "Name: nom, dtype: object"
      ]
     },
     "execution_count": 21,
     "metadata": {},
     "output_type": "execute_result"
    }
   ],
   "source": [
    "Fichier['nom'][:3] # extract les trois premiere rows de la colonne indiqué"
   ]
  },
  {
   "cell_type": "code",
   "execution_count": 22,
   "id": "9e507212",
   "metadata": {},
   "outputs": [
    {
     "data": {
      "text/plain": [
       "'Zinedine Zidane'"
      ]
     },
     "execution_count": 22,
     "metadata": {},
     "output_type": "execute_result"
    }
   ],
   "source": [
    "Fichier['nom'][8] # extract une seule row de la colonne indiqué"
   ]
  },
  {
   "cell_type": "code",
   "execution_count": 23,
   "id": "1148f303",
   "metadata": {},
   "outputs": [
    {
     "data": {
      "text/html": [
       "<div>\n",
       "<style scoped>\n",
       "    .dataframe tbody tr th:only-of-type {\n",
       "        vertical-align: middle;\n",
       "    }\n",
       "\n",
       "    .dataframe tbody tr th {\n",
       "        vertical-align: top;\n",
       "    }\n",
       "\n",
       "    .dataframe thead th {\n",
       "        text-align: right;\n",
       "    }\n",
       "</style>\n",
       "<table border=\"1\" class=\"dataframe\">\n",
       "  <thead>\n",
       "    <tr style=\"text-align: right;\">\n",
       "      <th></th>\n",
       "      <th>nom</th>\n",
       "      <th>position</th>\n",
       "    </tr>\n",
       "  </thead>\n",
       "  <tbody>\n",
       "    <tr>\n",
       "      <th>0</th>\n",
       "      <td>George Weah</td>\n",
       "      <td>1.0</td>\n",
       "    </tr>\n",
       "    <tr>\n",
       "      <th>1</th>\n",
       "      <td>Jurgen Klinsman</td>\n",
       "      <td>2.0</td>\n",
       "    </tr>\n",
       "    <tr>\n",
       "      <th>2</th>\n",
       "      <td>Matthias Sammer,defenseur,1996,1,Borussia Dort...</td>\n",
       "      <td>NaN</td>\n",
       "    </tr>\n",
       "    <tr>\n",
       "      <th>3</th>\n",
       "      <td>Ronaldo</td>\n",
       "      <td>2.0</td>\n",
       "    </tr>\n",
       "    <tr>\n",
       "      <th>4</th>\n",
       "      <td>Alan Shearer</td>\n",
       "      <td>3.0</td>\n",
       "    </tr>\n",
       "    <tr>\n",
       "      <th>5</th>\n",
       "      <td>Ronaldo</td>\n",
       "      <td>1.0</td>\n",
       "    </tr>\n",
       "    <tr>\n",
       "      <th>6</th>\n",
       "      <td>Predrag Mijatovic</td>\n",
       "      <td>2.0</td>\n",
       "    </tr>\n",
       "    <tr>\n",
       "      <th>7</th>\n",
       "      <td>Zinedine Zidane</td>\n",
       "      <td>3.0</td>\n",
       "    </tr>\n",
       "    <tr>\n",
       "      <th>8</th>\n",
       "      <td>Zinedine Zidane</td>\n",
       "      <td>1.0</td>\n",
       "    </tr>\n",
       "    <tr>\n",
       "      <th>9</th>\n",
       "      <td>Davor Suker</td>\n",
       "      <td>2.0</td>\n",
       "    </tr>\n",
       "    <tr>\n",
       "      <th>10</th>\n",
       "      <td>Ronaldo,attaquant,1998,3,Inter Milan,0,0,Bresi...</td>\n",
       "      <td>NaN</td>\n",
       "    </tr>\n",
       "    <tr>\n",
       "      <th>11</th>\n",
       "      <td>Rivaldo</td>\n",
       "      <td>1.0</td>\n",
       "    </tr>\n",
       "    <tr>\n",
       "      <th>12</th>\n",
       "      <td>David Beckham</td>\n",
       "      <td>2.0</td>\n",
       "    </tr>\n",
       "    <tr>\n",
       "      <th>13</th>\n",
       "      <td>Andriy Chevtchenko,attaquant,1999,3,AC Milan,0...</td>\n",
       "      <td>NaN</td>\n",
       "    </tr>\n",
       "    <tr>\n",
       "      <th>14</th>\n",
       "      <td>Luis Figo</td>\n",
       "      <td>1.0</td>\n",
       "    </tr>\n",
       "    <tr>\n",
       "      <th>15</th>\n",
       "      <td>Zinedine Zidane</td>\n",
       "      <td>2.0</td>\n",
       "    </tr>\n",
       "    <tr>\n",
       "      <th>16</th>\n",
       "      <td>Andriy Chevtchenko</td>\n",
       "      <td>3.0</td>\n",
       "    </tr>\n",
       "    <tr>\n",
       "      <th>17</th>\n",
       "      <td>Jari Litmanen</td>\n",
       "      <td>3.0</td>\n",
       "    </tr>\n",
       "  </tbody>\n",
       "</table>\n",
       "</div>"
      ],
      "text/plain": [
       "                                                  nom  position\n",
       "0                                         George Weah       1.0\n",
       "1                                     Jurgen Klinsman       2.0\n",
       "2   Matthias Sammer,defenseur,1996,1,Borussia Dort...       NaN\n",
       "3                                             Ronaldo       2.0\n",
       "4                                        Alan Shearer       3.0\n",
       "5                                             Ronaldo       1.0\n",
       "6                                   Predrag Mijatovic       2.0\n",
       "7                                     Zinedine Zidane       3.0\n",
       "8                                     Zinedine Zidane       1.0\n",
       "9                                         Davor Suker       2.0\n",
       "10  Ronaldo,attaquant,1998,3,Inter Milan,0,0,Bresi...       NaN\n",
       "11                                            Rivaldo       1.0\n",
       "12                                      David Beckham       2.0\n",
       "13  Andriy Chevtchenko,attaquant,1999,3,AC Milan,0...       NaN\n",
       "14                                          Luis Figo       1.0\n",
       "15                                    Zinedine Zidane       2.0\n",
       "16                                 Andriy Chevtchenko       3.0\n",
       "17                                      Jari Litmanen       3.0"
      ]
     },
     "execution_count": 23,
     "metadata": {},
     "output_type": "execute_result"
    }
   ],
   "source": [
    "Fichier[['nom','position']] # extraxct les données de deux colonnes indiquéq"
   ]
  },
  {
   "cell_type": "code",
   "execution_count": 24,
   "id": "33da1b88",
   "metadata": {},
   "outputs": [
    {
     "data": {
      "text/html": [
       "<div>\n",
       "<style scoped>\n",
       "    .dataframe tbody tr th:only-of-type {\n",
       "        vertical-align: middle;\n",
       "    }\n",
       "\n",
       "    .dataframe tbody tr th {\n",
       "        vertical-align: top;\n",
       "    }\n",
       "\n",
       "    .dataframe thead th {\n",
       "        text-align: right;\n",
       "    }\n",
       "</style>\n",
       "<table border=\"1\" class=\"dataframe\">\n",
       "  <thead>\n",
       "    <tr style=\"text-align: right;\">\n",
       "      <th></th>\n",
       "      <th>nom</th>\n",
       "      <th>position</th>\n",
       "      <th>confederation</th>\n",
       "    </tr>\n",
       "  </thead>\n",
       "  <tbody>\n",
       "    <tr>\n",
       "      <th>0</th>\n",
       "      <td>George Weah</td>\n",
       "      <td>1.0</td>\n",
       "      <td>CAF</td>\n",
       "    </tr>\n",
       "    <tr>\n",
       "      <th>1</th>\n",
       "      <td>Jurgen Klinsman</td>\n",
       "      <td>2.0</td>\n",
       "      <td>UEFA</td>\n",
       "    </tr>\n",
       "    <tr>\n",
       "      <th>2</th>\n",
       "      <td>Matthias Sammer,defenseur,1996,1,Borussia Dort...</td>\n",
       "      <td>NaN</td>\n",
       "      <td>NaN</td>\n",
       "    </tr>\n",
       "    <tr>\n",
       "      <th>3</th>\n",
       "      <td>Ronaldo</td>\n",
       "      <td>2.0</td>\n",
       "      <td>CONMEBOL</td>\n",
       "    </tr>\n",
       "    <tr>\n",
       "      <th>4</th>\n",
       "      <td>Alan Shearer</td>\n",
       "      <td>3.0</td>\n",
       "      <td>UEFA</td>\n",
       "    </tr>\n",
       "    <tr>\n",
       "      <th>5</th>\n",
       "      <td>Ronaldo</td>\n",
       "      <td>1.0</td>\n",
       "      <td>CONMEBOL</td>\n",
       "    </tr>\n",
       "    <tr>\n",
       "      <th>6</th>\n",
       "      <td>Predrag Mijatovic</td>\n",
       "      <td>2.0</td>\n",
       "      <td>UEFA</td>\n",
       "    </tr>\n",
       "    <tr>\n",
       "      <th>7</th>\n",
       "      <td>Zinedine Zidane</td>\n",
       "      <td>3.0</td>\n",
       "      <td>UEFA</td>\n",
       "    </tr>\n",
       "    <tr>\n",
       "      <th>8</th>\n",
       "      <td>Zinedine Zidane</td>\n",
       "      <td>1.0</td>\n",
       "      <td>UEFA</td>\n",
       "    </tr>\n",
       "  </tbody>\n",
       "</table>\n",
       "</div>"
      ],
      "text/plain": [
       "                                                 nom  position confederation\n",
       "0                                        George Weah       1.0           CAF\n",
       "1                                    Jurgen Klinsman       2.0          UEFA\n",
       "2  Matthias Sammer,defenseur,1996,1,Borussia Dort...       NaN           NaN\n",
       "3                                            Ronaldo       2.0      CONMEBOL\n",
       "4                                       Alan Shearer       3.0          UEFA\n",
       "5                                            Ronaldo       1.0      CONMEBOL\n",
       "6                                  Predrag Mijatovic       2.0          UEFA\n",
       "7                                    Zinedine Zidane       3.0          UEFA\n",
       "8                                    Zinedine Zidane       1.0          UEFA"
      ]
     },
     "execution_count": 24,
     "metadata": {},
     "output_type": "execute_result"
    }
   ],
   "source": [
    "Fichier[['nom','position','confederation']][:9]"
   ]
  },
  {
   "cell_type": "code",
   "execution_count": 26,
   "id": "f40485a9",
   "metadata": {},
   "outputs": [
    {
     "data": {
      "text/html": [
       "<div>\n",
       "<style scoped>\n",
       "    .dataframe tbody tr th:only-of-type {\n",
       "        vertical-align: middle;\n",
       "    }\n",
       "\n",
       "    .dataframe tbody tr th {\n",
       "        vertical-align: top;\n",
       "    }\n",
       "\n",
       "    .dataframe thead th {\n",
       "        text-align: right;\n",
       "    }\n",
       "</style>\n",
       "<table border=\"1\" class=\"dataframe\">\n",
       "  <thead>\n",
       "    <tr style=\"text-align: right;\">\n",
       "      <th></th>\n",
       "      <th>nom</th>\n",
       "      <th>poste</th>\n",
       "      <th>annee</th>\n",
       "      <th>position</th>\n",
       "      <th>clubs</th>\n",
       "      <th>tropheCollective</th>\n",
       "      <th>tropheIndividuel</th>\n",
       "      <th>selection</th>\n",
       "      <th>confederation</th>\n",
       "      <th>ligueDesChampions;</th>\n",
       "    </tr>\n",
       "  </thead>\n",
       "  <tbody>\n",
       "    <tr>\n",
       "      <th>0</th>\n",
       "      <td>George Weah</td>\n",
       "      <td>attaquant</td>\n",
       "      <td>1995.0</td>\n",
       "      <td>1.0</td>\n",
       "      <td>ParisSG-ACMilan</td>\n",
       "      <td>0.0</td>\n",
       "      <td>0.0</td>\n",
       "      <td>Liberia</td>\n",
       "      <td>CAF</td>\n",
       "      <td>Demi-finaliste;</td>\n",
       "    </tr>\n",
       "    <tr>\n",
       "      <th>1</th>\n",
       "      <td>Jurgen Klinsman</td>\n",
       "      <td>attaquant</td>\n",
       "      <td>1995.0</td>\n",
       "      <td>2.0</td>\n",
       "      <td>Bayern Munich</td>\n",
       "      <td>0.0</td>\n",
       "      <td>0.0</td>\n",
       "      <td>Allemagne</td>\n",
       "      <td>UEFA</td>\n",
       "      <td>Demi-finaliste;</td>\n",
       "    </tr>\n",
       "    <tr>\n",
       "      <th>17</th>\n",
       "      <td>Jari Litmanen</td>\n",
       "      <td>attaquant</td>\n",
       "      <td>1995.0</td>\n",
       "      <td>3.0</td>\n",
       "      <td>Ajax Amsterdam</td>\n",
       "      <td>0.0</td>\n",
       "      <td>0.0</td>\n",
       "      <td>Finlande</td>\n",
       "      <td>UEFA</td>\n",
       "      <td>Vainqueur;</td>\n",
       "    </tr>\n",
       "    <tr>\n",
       "      <th>3</th>\n",
       "      <td>Ronaldo</td>\n",
       "      <td>attaquant</td>\n",
       "      <td>1996.0</td>\n",
       "      <td>2.0</td>\n",
       "      <td>FCBarcelone</td>\n",
       "      <td>0.0</td>\n",
       "      <td>0.0</td>\n",
       "      <td>Bresil</td>\n",
       "      <td>CONMEBOL</td>\n",
       "      <td>Vainqueur;</td>\n",
       "    </tr>\n",
       "    <tr>\n",
       "      <th>4</th>\n",
       "      <td>Alan Shearer</td>\n",
       "      <td>attaquant</td>\n",
       "      <td>1996.0</td>\n",
       "      <td>3.0</td>\n",
       "      <td>Newcastle United</td>\n",
       "      <td>0.0</td>\n",
       "      <td>0.0</td>\n",
       "      <td>Angleterre</td>\n",
       "      <td>UEFA</td>\n",
       "      <td>Neant;</td>\n",
       "    </tr>\n",
       "    <tr>\n",
       "      <th>5</th>\n",
       "      <td>Ronaldo</td>\n",
       "      <td>attaquant</td>\n",
       "      <td>1997.0</td>\n",
       "      <td>1.0</td>\n",
       "      <td>Barcelone-InterMilan</td>\n",
       "      <td>0.0</td>\n",
       "      <td>0.0</td>\n",
       "      <td>Bresil</td>\n",
       "      <td>CONMEBOL</td>\n",
       "      <td>Vainqueur Coupe des coupes;</td>\n",
       "    </tr>\n",
       "    <tr>\n",
       "      <th>6</th>\n",
       "      <td>Predrag Mijatovic</td>\n",
       "      <td>attaquant</td>\n",
       "      <td>1997.0</td>\n",
       "      <td>2.0</td>\n",
       "      <td>Real Madrid</td>\n",
       "      <td>0.0</td>\n",
       "      <td>0.0</td>\n",
       "      <td>Yougoslavie</td>\n",
       "      <td>UEFA</td>\n",
       "      <td>Vainqueur Ligue des Champions;</td>\n",
       "    </tr>\n",
       "    <tr>\n",
       "      <th>7</th>\n",
       "      <td>Zinedine Zidane</td>\n",
       "      <td>milieu</td>\n",
       "      <td>1997.0</td>\n",
       "      <td>3.0</td>\n",
       "      <td>Juventus</td>\n",
       "      <td>0.0</td>\n",
       "      <td>0.0</td>\n",
       "      <td>France</td>\n",
       "      <td>UEFA</td>\n",
       "      <td>Finaliste;</td>\n",
       "    </tr>\n",
       "    <tr>\n",
       "      <th>8</th>\n",
       "      <td>Zinedine Zidane</td>\n",
       "      <td>milieu</td>\n",
       "      <td>1998.0</td>\n",
       "      <td>1.0</td>\n",
       "      <td>Juventus</td>\n",
       "      <td>0.0</td>\n",
       "      <td>0.0</td>\n",
       "      <td>France</td>\n",
       "      <td>UEFA</td>\n",
       "      <td>Neant;</td>\n",
       "    </tr>\n",
       "    <tr>\n",
       "      <th>9</th>\n",
       "      <td>Davor Suker</td>\n",
       "      <td>attaquant</td>\n",
       "      <td>1998.0</td>\n",
       "      <td>2.0</td>\n",
       "      <td>Real Madrid</td>\n",
       "      <td>0.0</td>\n",
       "      <td>0.0</td>\n",
       "      <td>Croatie</td>\n",
       "      <td>UEFA</td>\n",
       "      <td>Neant;</td>\n",
       "    </tr>\n",
       "    <tr>\n",
       "      <th>11</th>\n",
       "      <td>Rivaldo</td>\n",
       "      <td>milieu</td>\n",
       "      <td>1999.0</td>\n",
       "      <td>1.0</td>\n",
       "      <td>FC Barcelone</td>\n",
       "      <td>0.0</td>\n",
       "      <td>0.0</td>\n",
       "      <td>Bresil</td>\n",
       "      <td>CONMEBOL</td>\n",
       "      <td>Vainqueur;</td>\n",
       "    </tr>\n",
       "    <tr>\n",
       "      <th>12</th>\n",
       "      <td>David Beckham</td>\n",
       "      <td>milieu</td>\n",
       "      <td>1999.0</td>\n",
       "      <td>2.0</td>\n",
       "      <td>ManchesterUnited</td>\n",
       "      <td>0.0</td>\n",
       "      <td>0.0</td>\n",
       "      <td>Angleterre</td>\n",
       "      <td>UEFA</td>\n",
       "      <td>Vainqueur;</td>\n",
       "    </tr>\n",
       "    <tr>\n",
       "      <th>14</th>\n",
       "      <td>Luis Figo</td>\n",
       "      <td>milieu</td>\n",
       "      <td>2000.0</td>\n",
       "      <td>1.0</td>\n",
       "      <td>FCBarcelone - RealMadrid</td>\n",
       "      <td>0.0</td>\n",
       "      <td>0.0</td>\n",
       "      <td>Portugal</td>\n",
       "      <td>UEFA</td>\n",
       "      <td>Vainqueur;</td>\n",
       "    </tr>\n",
       "    <tr>\n",
       "      <th>15</th>\n",
       "      <td>Zinedine Zidane</td>\n",
       "      <td>milieu</td>\n",
       "      <td>2000.0</td>\n",
       "      <td>2.0</td>\n",
       "      <td>Juventus</td>\n",
       "      <td>0.0</td>\n",
       "      <td>0.0</td>\n",
       "      <td>France</td>\n",
       "      <td>UEFA</td>\n",
       "      <td>Vainqueur;</td>\n",
       "    </tr>\n",
       "    <tr>\n",
       "      <th>16</th>\n",
       "      <td>Andriy Chevtchenko</td>\n",
       "      <td>attaquant</td>\n",
       "      <td>2000.0</td>\n",
       "      <td>3.0</td>\n",
       "      <td>ACMilan</td>\n",
       "      <td>0.0</td>\n",
       "      <td>0.0</td>\n",
       "      <td>Ukraine</td>\n",
       "      <td>UEFA</td>\n",
       "      <td>Vainqueur;</td>\n",
       "    </tr>\n",
       "    <tr>\n",
       "      <th>2</th>\n",
       "      <td>Matthias Sammer,defenseur,1996,1,Borussia Dort...</td>\n",
       "      <td>NaN</td>\n",
       "      <td>NaN</td>\n",
       "      <td>NaN</td>\n",
       "      <td>NaN</td>\n",
       "      <td>NaN</td>\n",
       "      <td>NaN</td>\n",
       "      <td>NaN</td>\n",
       "      <td>NaN</td>\n",
       "      <td>NaN</td>\n",
       "    </tr>\n",
       "    <tr>\n",
       "      <th>10</th>\n",
       "      <td>Ronaldo,attaquant,1998,3,Inter Milan,0,0,Bresi...</td>\n",
       "      <td>NaN</td>\n",
       "      <td>NaN</td>\n",
       "      <td>NaN</td>\n",
       "      <td>NaN</td>\n",
       "      <td>NaN</td>\n",
       "      <td>NaN</td>\n",
       "      <td>NaN</td>\n",
       "      <td>NaN</td>\n",
       "      <td>NaN</td>\n",
       "    </tr>\n",
       "    <tr>\n",
       "      <th>13</th>\n",
       "      <td>Andriy Chevtchenko,attaquant,1999,3,AC Milan,0...</td>\n",
       "      <td>NaN</td>\n",
       "      <td>NaN</td>\n",
       "      <td>NaN</td>\n",
       "      <td>NaN</td>\n",
       "      <td>NaN</td>\n",
       "      <td>NaN</td>\n",
       "      <td>NaN</td>\n",
       "      <td>NaN</td>\n",
       "      <td>NaN</td>\n",
       "    </tr>\n",
       "  </tbody>\n",
       "</table>\n",
       "</div>"
      ],
      "text/plain": [
       "                                                  nom      poste   annee  \\\n",
       "0                                         George Weah  attaquant  1995.0   \n",
       "1                                     Jurgen Klinsman  attaquant  1995.0   \n",
       "17                                      Jari Litmanen  attaquant  1995.0   \n",
       "3                                             Ronaldo  attaquant  1996.0   \n",
       "4                                        Alan Shearer  attaquant  1996.0   \n",
       "5                                             Ronaldo  attaquant  1997.0   \n",
       "6                                   Predrag Mijatovic  attaquant  1997.0   \n",
       "7                                     Zinedine Zidane     milieu  1997.0   \n",
       "8                                     Zinedine Zidane     milieu  1998.0   \n",
       "9                                         Davor Suker  attaquant  1998.0   \n",
       "11                                            Rivaldo     milieu  1999.0   \n",
       "12                                      David Beckham     milieu  1999.0   \n",
       "14                                          Luis Figo     milieu  2000.0   \n",
       "15                                    Zinedine Zidane     milieu  2000.0   \n",
       "16                                 Andriy Chevtchenko  attaquant  2000.0   \n",
       "2   Matthias Sammer,defenseur,1996,1,Borussia Dort...        NaN     NaN   \n",
       "10  Ronaldo,attaquant,1998,3,Inter Milan,0,0,Bresi...        NaN     NaN   \n",
       "13  Andriy Chevtchenko,attaquant,1999,3,AC Milan,0...        NaN     NaN   \n",
       "\n",
       "    position                     clubs  tropheCollective  tropheIndividuel  \\\n",
       "0        1.0           ParisSG-ACMilan               0.0               0.0   \n",
       "1        2.0             Bayern Munich               0.0               0.0   \n",
       "17       3.0            Ajax Amsterdam               0.0               0.0   \n",
       "3        2.0               FCBarcelone               0.0               0.0   \n",
       "4        3.0          Newcastle United               0.0               0.0   \n",
       "5        1.0      Barcelone-InterMilan               0.0               0.0   \n",
       "6        2.0               Real Madrid               0.0               0.0   \n",
       "7        3.0                  Juventus               0.0               0.0   \n",
       "8        1.0                  Juventus               0.0               0.0   \n",
       "9        2.0               Real Madrid               0.0               0.0   \n",
       "11       1.0              FC Barcelone               0.0               0.0   \n",
       "12       2.0          ManchesterUnited               0.0               0.0   \n",
       "14       1.0  FCBarcelone - RealMadrid               0.0               0.0   \n",
       "15       2.0                  Juventus               0.0               0.0   \n",
       "16       3.0                   ACMilan               0.0               0.0   \n",
       "2        NaN                       NaN               NaN               NaN   \n",
       "10       NaN                       NaN               NaN               NaN   \n",
       "13       NaN                       NaN               NaN               NaN   \n",
       "\n",
       "      selection confederation              ligueDesChampions;  \n",
       "0       Liberia           CAF                 Demi-finaliste;  \n",
       "1     Allemagne          UEFA                 Demi-finaliste;  \n",
       "17     Finlande          UEFA                     Vainqueur;   \n",
       "3        Bresil      CONMEBOL                      Vainqueur;  \n",
       "4    Angleterre          UEFA                          Neant;  \n",
       "5        Bresil      CONMEBOL     Vainqueur Coupe des coupes;  \n",
       "6   Yougoslavie          UEFA  Vainqueur Ligue des Champions;  \n",
       "7        France          UEFA                      Finaliste;  \n",
       "8        France          UEFA                          Neant;  \n",
       "9       Croatie          UEFA                          Neant;  \n",
       "11       Bresil      CONMEBOL                      Vainqueur;  \n",
       "12   Angleterre          UEFA                      Vainqueur;  \n",
       "14     Portugal          UEFA                      Vainqueur;  \n",
       "15       France          UEFA                      Vainqueur;  \n",
       "16      Ukraine          UEFA                      Vainqueur;  \n",
       "2           NaN           NaN                             NaN  \n",
       "10          NaN           NaN                             NaN  \n",
       "13          NaN           NaN                             NaN  "
      ]
     },
     "execution_count": 26,
     "metadata": {},
     "output_type": "execute_result"
    }
   ],
   "source": [
    "Fichier.sort_values(['annee']) # trier par rapport a la colonne indiqués"
   ]
  },
  {
   "cell_type": "code",
   "execution_count": 27,
   "id": "8d241818",
   "metadata": {},
   "outputs": [
    {
     "data": {
      "text/plain": [
       "UEFA        11\n",
       "CONMEBOL     3\n",
       "CAF          1\n",
       "Name: confederation, dtype: int64"
      ]
     },
     "execution_count": 27,
     "metadata": {},
     "output_type": "execute_result"
    }
   ],
   "source": [
    "degree_counts= Fichier['confederation'].value_counts()\n",
    "degree_counts"
   ]
  },
  {
   "cell_type": "code",
   "execution_count": 28,
   "id": "3a64f05c",
   "metadata": {},
   "outputs": [
    {
     "data": {
      "text/plain": [
       "<AxesSubplot:>"
      ]
     },
     "execution_count": 28,
     "metadata": {},
     "output_type": "execute_result"
    },
    {
     "data": {
      "image/png": "[encoded data removed]",
      "text/plain": [
       "<Figure size 432x288 with 1 Axes>"
      ]
     },
     "metadata": {
      "needs_background": "light"
     },
     "output_type": "display_data"
    }
   ],
   "source": [
    "degree_counts.plot(kind='bar') # dessine un histogramme en baton "
   ]
  },
  {
   "cell_type": "code",
   "execution_count": 32,
   "id": "48daf590",
   "metadata": {},
   "outputs": [
    {
     "data": {
      "text/plain": [
       "<AxesSubplot:>"
      ]
     },
     "execution_count": 32,
     "metadata": {},
     "output_type": "execute_result"
    },
    {
     "data": {
      "image/png": "[encoded data removed]",
      "text/plain": [
       "<Figure size 432x288 with 1 Axes>"
      ]
     },
     "metadata": {
      "needs_background": "light"
     },
     "output_type": "display_data"
    }
   ],
   "source": [
    "poste_counts= Fichier['poste'].value_counts()\n",
    "poste_counts.plot(kind='bar')"
   ]
  },
  {
   "cell_type": "code",
   "execution_count": 30,
   "id": "339004ef",
   "metadata": {},
   "outputs": [
    {
     "ename": "NameError",
     "evalue": "name 'poste_counts' is not defined",
     "output_type": "error",
     "traceback": [
      "\u001b[1;31m---------------------------------------------------------------------------\u001b[0m",
      "\u001b[1;31mNameError\u001b[0m                                 Traceback (most recent call last)",
      "\u001b[1;32m~\\AppData\\Local\\Temp/ipykernel_5828/884794618.py\u001b[0m in \u001b[0;36m<module>\u001b[1;34m\u001b[0m\n\u001b[1;32m----> 1\u001b[1;33m \u001b[0mposte_counts\u001b[0m\u001b[1;33m.\u001b[0m\u001b[0mplot\u001b[0m\u001b[1;33m(\u001b[0m\u001b[0mkind\u001b[0m\u001b[1;33m=\u001b[0m\u001b[1;34m'bar'\u001b[0m\u001b[1;33m)\u001b[0m\u001b[1;33m\u001b[0m\u001b[1;33m\u001b[0m\u001b[0m\n\u001b[0m",
      "\u001b[1;31mNameError\u001b[0m: name 'poste_counts' is not defined"
     ]
    }
   ],
   "source": []
  },
  {
   "cell_type": "code",
   "execution_count": null,
   "id": "f25abb67",
   "metadata": {},
   "outputs": [],
   "source": []
  },
  {
   "cell_type": "code",
   "execution_count": null,
   "id": "659a4ecb",
   "metadata": {},
   "outputs": [],
   "source": []
  }
 ],
 "metadata": {
  "kernelspec": {
   "display_name": "Python 3 (ipykernel)",
   "language": "python",
   "name": "python3"
  },
  "language_info": {
   "codemirror_mode": {
    "name": "ipython",
    "version": 3
   },
   "file_extension": ".py",
   "mimetype": "text/x-python",
   "name": "python",
   "nbconvert_exporter": "python",
   "pygments_lexer": "ipython3",
   "version": "3.10.11"
  }
 },
 "nbformat": 4,
 "nbformat_minor": 5
}
